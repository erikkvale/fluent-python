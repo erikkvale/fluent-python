{
 "cells": [
  {
   "cell_type": "code",
   "execution_count": 29,
   "metadata": {},
   "outputs": [],
   "source": [
    "import collections\n",
    "\n",
    "Card = collections.namedtuple('Card', ['rank', 'suit'])\n",
    "\n",
    "class FrenchDeck:\n",
    "    \"\"\"\n",
    "    Represents a deck of cards with Python special methods:\n",
    "    __len__, __getitem__ explicity defined to showcase \n",
    "    the Python data model\n",
    "    \"\"\"\n",
    "    ranks = [str(n) for n in range(2, 11)] + list('JQKA')\n",
    "    suits = 'spades diamonds clubs hearts'.split()\n",
    "    \n",
    "    def __init__(self):\n",
    "        self._cards = [Card(rank, suit) for suit in self.suits\n",
    "                                        for rank in self.ranks]\n",
    "        \n",
    "    def __len__(self):\n",
    "        return len(self._cards)\n",
    "    \n",
    "    def __getitem__(self, position):\n",
    "        return self._cards[position]"
   ]
  },
  {
   "cell_type": "markdown",
   "metadata": {},
   "source": [
    "**Class attributes**"
   ]
  },
  {
   "cell_type": "code",
   "execution_count": 30,
   "metadata": {},
   "outputs": [
    {
     "data": {
      "text/plain": [
       "['spades', 'diamonds', 'clubs', 'hearts']"
      ]
     },
     "execution_count": 30,
     "metadata": {},
     "output_type": "execute_result"
    }
   ],
   "source": [
    "FrenchDeck.suits"
   ]
  },
  {
   "cell_type": "code",
   "execution_count": 31,
   "metadata": {},
   "outputs": [
    {
     "data": {
      "text/plain": [
       "['2', '3', '4', '5', '6', '7', '8', '9', '10', 'J', 'Q', 'K', 'A']"
      ]
     },
     "execution_count": 31,
     "metadata": {},
     "output_type": "execute_result"
    }
   ],
   "source": [
    "FrenchDeck.ranks"
   ]
  },
  {
   "cell_type": "markdown",
   "metadata": {},
   "source": [
    "**Instance Methods and Attributes**"
   ]
  },
  {
   "cell_type": "code",
   "execution_count": 32,
   "metadata": {},
   "outputs": [],
   "source": [
    "deck = FrenchDeck()"
   ]
  },
  {
   "cell_type": "code",
   "execution_count": 33,
   "metadata": {},
   "outputs": [
    {
     "data": {
      "text/plain": [
       "52"
      ]
     },
     "execution_count": 33,
     "metadata": {},
     "output_type": "execute_result"
    }
   ],
   "source": [
    "# FrenchDeck class definition leverages __len__ to return number\n",
    "# of cards, instead of manually targeting the _cards attribute\n",
    "# on the instance and calling len(instance._cards)\n",
    "len(deck)"
   ]
  },
  {
   "cell_type": "code",
   "execution_count": 34,
   "metadata": {},
   "outputs": [
    {
     "data": {
      "text/plain": [
       "Card(rank='2', suit='spades')"
      ]
     },
     "execution_count": 34,
     "metadata": {},
     "output_type": "execute_result"
    }
   ],
   "source": [
    "# Same idea with __getitem__, the class's \"position\" argument\n",
    "# is given the index as a key. The interpreter calls\n",
    "# deck.__getitem__.(key), in this case the integer 0 is the key\n",
    "deck[0]"
   ]
  },
  {
   "cell_type": "code",
   "execution_count": 35,
   "metadata": {},
   "outputs": [
    {
     "data": {
      "text/plain": [
       "[Card(rank='2', suit='spades'),\n",
       " Card(rank='3', suit='spades'),\n",
       " Card(rank='4', suit='spades')]"
      ]
     },
     "execution_count": 35,
     "metadata": {},
     "output_type": "execute_result"
    }
   ],
   "source": [
    "# Because __getitem__ delegates to the [] operator of self._cards\n",
    "# it supports slicing\n",
    "deck[:3]"
   ]
  },
  {
   "cell_type": "code",
   "execution_count": 40,
   "metadata": {},
   "outputs": [
    {
     "name": "stdout",
     "output_type": "stream",
     "text": [
      "Card(rank='2', suit='spades')_Card(rank='3', suit='spades')_Card(rank='4', suit='spades')_Card(rank='5', suit='spades')_Card(rank='6', suit='spades')_Card(rank='7', suit='spades')_Card(rank='8', suit='spades')_Card(rank='9', suit='spades')_Card(rank='10', suit='spades')_Card(rank='J', suit='spades')_Card(rank='Q', suit='spades')_Card(rank='K', suit='spades')_Card(rank='A', suit='spades')_Card(rank='2', suit='diamonds')_Card(rank='3', suit='diamonds')_Card(rank='4', suit='diamonds')_Card(rank='5', suit='diamonds')_Card(rank='6', suit='diamonds')_Card(rank='7', suit='diamonds')_Card(rank='8', suit='diamonds')_Card(rank='9', suit='diamonds')_Card(rank='10', suit='diamonds')_Card(rank='J', suit='diamonds')_Card(rank='Q', suit='diamonds')_Card(rank='K', suit='diamonds')_Card(rank='A', suit='diamonds')_Card(rank='2', suit='clubs')_Card(rank='3', suit='clubs')_Card(rank='4', suit='clubs')_Card(rank='5', suit='clubs')_Card(rank='6', suit='clubs')_Card(rank='7', suit='clubs')_Card(rank='8', suit='clubs')_Card(rank='9', suit='clubs')_Card(rank='10', suit='clubs')_Card(rank='J', suit='clubs')_Card(rank='Q', suit='clubs')_Card(rank='K', suit='clubs')_Card(rank='A', suit='clubs')_Card(rank='2', suit='hearts')_Card(rank='3', suit='hearts')_Card(rank='4', suit='hearts')_Card(rank='5', suit='hearts')_Card(rank='6', suit='hearts')_Card(rank='7', suit='hearts')_Card(rank='8', suit='hearts')_Card(rank='9', suit='hearts')_Card(rank='10', suit='hearts')_Card(rank='J', suit='hearts')_Card(rank='Q', suit='hearts')_Card(rank='K', suit='hearts')_Card(rank='A', suit='hearts')_"
     ]
    }
   ],
   "source": [
    "# And __getitem__ also supports iteration\n",
    "for card in deck:\n",
    "    print(card, end='_')"
   ]
  },
  {
   "cell_type": "code",
   "execution_count": null,
   "metadata": {},
   "outputs": [],
   "source": []
  }
 ],
 "metadata": {
  "kernelspec": {
   "display_name": "Python 3",
   "language": "python",
   "name": "python3"
  },
  "language_info": {
   "codemirror_mode": {
    "name": "ipython",
    "version": 3
   },
   "file_extension": ".py",
   "mimetype": "text/x-python",
   "name": "python",
   "nbconvert_exporter": "python",
   "pygments_lexer": "ipython3",
   "version": "3.6.1"
  }
 },
 "nbformat": 4,
 "nbformat_minor": 2
}
